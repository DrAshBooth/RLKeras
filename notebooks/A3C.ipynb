{
 "cells": [
  {
   "cell_type": "code",
   "execution_count": 49,
   "metadata": {},
   "outputs": [],
   "source": [
    "import gym\n",
    "\n",
    "from tensorflow.python.framework.ops import disable_eager_execution\n",
    "\n",
    "from tensorflow.keras.layers import Input, Dense\n",
    "from tensorflow.keras.models import Model"
   ]
  },
  {
   "cell_type": "code",
   "execution_count": 39,
   "metadata": {},
   "outputs": [],
   "source": [
    "env = gym.make('CartPole-v0')"
   ]
  },
  {
   "cell_type": "code",
   "execution_count": 47,
   "metadata": {},
   "outputs": [
    {
     "data": {
      "text/plain": [
       "array([4.8000002e+00, 3.4028235e+38, 4.1887903e-01, 3.4028235e+38],\n",
       "      dtype=float32)"
      ]
     },
     "execution_count": 47,
     "metadata": {},
     "output_type": "execute_result"
    }
   ],
   "source": [
    "env.observation_space.high"
   ]
  },
  {
   "cell_type": "code",
   "execution_count": 40,
   "metadata": {},
   "outputs": [
    {
     "data": {
      "text/plain": [
       "Discrete(2)"
      ]
     },
     "execution_count": 40,
     "metadata": {},
     "output_type": "execute_result"
    }
   ],
   "source": [
    "env.action_space"
   ]
  },
  {
   "cell_type": "code",
   "execution_count": 51,
   "metadata": {},
   "outputs": [],
   "source": [
    "from tensorflow.keras.optimizers import RMSprop\n",
    "\n",
    "class Agent:\n",
    "    def __init__(self, inp_dim, out_dim, lr, tau = 0.001):\n",
    "        self.inp_dim = inp_dim\n",
    "        self.out_dim = out_dim\n",
    "        self.tau = tau\n",
    "        self.optimizer = RMSprop(lr=lr, epsilon=0.1, rho=0.99)\n",
    "    \n",
    "    def fit(self, inp, targ):\n",
    "        \"\"\"\n",
    "        Performs an epoch of training\n",
    "        \"\"\"\n",
    "        self.model.fit(self.reshape(inp), targ, epochs=1, verbose = 0)\n",
    "        \n",
    "    def predict(self, inp):\n",
    "        return self.model.predict(self.reshape(inp))\n",
    "        \n",
    "    def reshape(self, x):\n",
    "        if len(x.shape) < 4 and len(self.inp_dim) > 2: return np.expand_dims(x, axis=0)\n",
    "        elif len(x.shape) < 2: return np.expand_dims(x, axis=0)\n",
    "        else: return x"
   ]
  },
  {
   "cell_type": "code",
   "execution_count": 52,
   "metadata": {},
   "outputs": [],
   "source": [
    "import tensorflow.keras.backend as K"
   ]
  },
  {
   "cell_type": "code",
   "execution_count": 93,
   "metadata": {},
   "outputs": [],
   "source": [
    "class Actor(Agent):\n",
    "    \"\"\"\n",
    "    Actor for the AC3 algorithm\n",
    "    \"\"\"\n",
    "    def __init__(self, inp_dim, out_dim, network, lr):\n",
    "        Agent.__init__(self, inp_dim, out_dim, lr)\n",
    "        self.model = self.addHead(network)\n",
    "        self.action_pl = K.placeholder(shape=(None, self.out_dim))\n",
    "        self.advantages_pl = K.placeholder(shape=(None,))\n",
    "        # Pre-compile for threading\n",
    "        self.model._make_predict_function()\n",
    "    \n",
    "    def addHead(self, network):\n",
    "        \"\"\"\n",
    "        Assemble Actor network to predict probability of each action\n",
    "        \"\"\"\n",
    "        x = Dense(128, activation='relu')(network.output)\n",
    "        out = Dense(self.out_dim, activation='softmax')(x)\n",
    "        return Model(network.input, out)\n",
    "    \n",
    "    def optimizer(self):\n",
    "        \"\"\" Actor Optimization: Advantages + Entropy term to encourage exploration\n",
    "        (Cf. https://arxiv.org/abs/1602.01783)\n",
    "        \"\"\"\n",
    "        weighted_actions = K.sum(self.action_pl * self.model.output, axis=1)\n",
    "        eligibility = K.log(weighted_actions + 1e-10) * K.stop_gradient(self.advantages_pl)\n",
    "        entropy = K.sum(self.model.output * K.log(self.model.output + 1e-10), axis=1)\n",
    "        loss = 0.001 * entropy - K.sum(eligibility)\n",
    "        \n",
    "        updates = self.optimizer.get_updates(self.model.trainable_weights, \n",
    "                                             [], loss)\n",
    "        return K.function([self.model.input,\n",
    "                          self.action_pl,\n",
    "                          self.advantages_pl],\n",
    "                          [],\n",
    "                          updates=updates)\n",
    "    \n",
    "    def save(self, path):\n",
    "        self.model.save_weights(path + '_actor.h5')\n",
    "        \n",
    "    def load_weights(self, path):\n",
    "        self.model.load_weights(path)"
   ]
  },
  {
   "cell_type": "code",
   "execution_count": 101,
   "metadata": {},
   "outputs": [],
   "source": [
    "class Critic(Agent):\n",
    "    \"\"\"\n",
    "    Critic for the AC3 algorithm\n",
    "    \"\"\"\n",
    "    def __init__(self, inp_dim, out_dim, network, lr):\n",
    "        Agent.__init__(self, inp_dim, out_dim, lr)\n",
    "        self.model = self.add_Head(network)\n",
    "        self.discounted_r = K.placeholder(shape=(None,))\n",
    "        # Pre-compile for threading\n",
    "        self.model._make_predict_function()\n",
    "    \n",
    "    def addHead(self, network):\n",
    "        \"\"\"\n",
    "        Assemble the Critic head of the network to predict the value \n",
    "        of each state\n",
    "        \"\"\"\n",
    "        x = Dense(128, activation='relu')(network.output)\n",
    "        out = Dense(1, activation='linear')(x)\n",
    "        return Model(network.input, out)\n",
    "    \n",
    "    def optimizer(self):\n",
    "        \"\"\"\n",
    "        Critic Optimization: Mean Squared Error over discounted \n",
    "        rewards\n",
    "        \"\"\"\n",
    "        critic_loss = K.mean(K.square(self.discounted_r - \n",
    "                                      self.mode.output))\n",
    "        updates = self.optimizer.get_updates(self.model.trainable_weights,\n",
    "                                             [],\n",
    "                                             critic_loss)\n",
    "        return K.function([self.model.input, self.discounted_r],\n",
    "                          [], \n",
    "                          updates=updates)\n",
    "    \n",
    "    def save(self, path):\n",
    "        self.model.save_weights(path + '_critic.h5')\n",
    "\n",
    "    def load_weights(self, path):\n",
    "        self.model.load_weights(path)"
   ]
  },
  {
   "cell_type": "code",
   "execution_count": 102,
   "metadata": {},
   "outputs": [],
   "source": [
    "class A3C:\n",
    "    \"\"\"\n",
    "    Asynchronous Actor-Critic, main algo\n",
    "    \"\"\"\n",
    "    def __init__(self, \n",
    "                 act_dim, \n",
    "                 env_dim, \n",
    "                 consecutive_frames,\n",
    "                 gamma=0.99,\n",
    "                 lr=0.0001):\n",
    "        \"\"\"\n",
    "        Initialization\n",
    "        \"\"\"\n",
    "        disable_eager_execution()\n",
    "        \n",
    "        self.act_dim = act_dim\n",
    "        self.env_dim = (consecutive_frames,) + env_dim\n",
    "        self.gamma = gamma\n",
    "        self.lr = lr\n",
    "        # Create shared network\n",
    "        self.shared = self.build_network()\n",
    "        # Create actor and critic heads\n",
    "        self.actor = Actor(self.env_dim, act_dim, self.shared, lr)\n",
    "        self.critic = Critic(self.env_dim, act_dim, self,shared, lr)\n",
    "        # Build optimizers\n",
    "        self.a_opt = self.actor.optimizer()\n",
    "        self.c_opt = self.critic.optimizer()\n",
    "        \n",
    "    def build_network(self):\n",
    "        \"\"\"\n",
    "        Assemble the shared layers\n",
    "        \"\"\"\n",
    "        inp = Input(self.env_dim, name=\"Input\")\n",
    "        layer1 = Dense(512, activation=\"relu\")(inp)\n",
    "        layer2 = Dense(512, activation=\"relu\")(layer1)\n",
    "        layer3 = Dense(64, activation=\"relu\")(layer2)\n",
    "        layer4 = Dense(256, activation=\"relu\")(layer3)\n",
    "        return Model(inp, layer4)\n",
    "    \n",
    "    def policy_action(self, s):\n",
    "        \"\"\"\n",
    "        Use the actor head of the network to predict\n",
    "        the next action to take, using the policy\n",
    "        \"\"\"\n",
    "        return np.random.choice(np.arange(self.act_dim),\n",
    "                                1,\n",
    "                                p=self.actor.predict(s).ravel())[0]\n",
    "    \n",
    "    def discount(self, r, done, s):\n",
    "        \"\"\"\n",
    "        Compute the gamma-discounted rewards over an episode\n",
    "        \"\"\"\n",
    "        discounted_r, cumul_r = np.zeros_like(r), 0\n",
    "        for t in reversed(range(0, len(r))):\n",
    "            cumul_r = r[t] + cumul_r * self.gamma\n",
    "            discounted_r[t] = cumul_r\n",
    "        return discounted_r\n",
    "    \n",
    "    def train_models(self, states, actions, rewards, done):\n",
    "        \"\"\"\n",
    "        Update actor and critic heads from experience\n",
    "        \"\"\"\n",
    "        # Compute discounted rewards and Advantage (TD, Error)\n",
    "        discounted_rewards = self.discount(rewards, done, states[-1])\n",
    "        state_values = self.critic.predict(np.array(states))\n",
    "        advantages = discounted_rewards - np.reshape(state_values, \n",
    "                                                     len(state_values))\n",
    "        # Networks optimization\n",
    "        self.a_opt([states, actions, advantages])\n",
    "        self.c_opt([states, discounted_rewards])\n",
    "    \n",
    "    def train(self, env, args, summary_writer):\n",
    "        raise NotImplementedError"
   ]
  },
  {
   "cell_type": "code",
   "execution_count": null,
   "metadata": {},
   "outputs": [],
   "source": []
  }
 ],
 "metadata": {
  "kernelspec": {
   "display_name": "Python 3",
   "language": "python",
   "name": "python3"
  },
  "language_info": {
   "codemirror_mode": {
    "name": "ipython",
    "version": 3
   },
   "file_extension": ".py",
   "mimetype": "text/x-python",
   "name": "python",
   "nbconvert_exporter": "python",
   "pygments_lexer": "ipython3",
   "version": "3.7.4"
  }
 },
 "nbformat": 4,
 "nbformat_minor": 4
}
